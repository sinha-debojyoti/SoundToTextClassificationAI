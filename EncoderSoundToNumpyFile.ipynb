{
  "nbformat": 4,
  "nbformat_minor": 0,
  "metadata": {
    "colab": {
      "name": "EncoderSoundToNumpyFile",
      "provenance": []
    },
    "kernelspec": {
      "name": "python3",
      "display_name": "Python 3"
    }
  },
  "cells": [
    {
      "cell_type": "code",
      "metadata": {
        "id": "l8LUakf_p_M1"
      },
      "source": [
        "import csv\n",
        "import numpy as np\n",
        "import librosa\n",
        "import matplotlib.pyplot as plt\n",
        "import seaborn as sns\n",
        "import warnings\n",
        "\n",
        "warnings.filterwarnings('ignore')"
      ],
      "execution_count": null,
      "outputs": []
    },
    {
      "cell_type": "code",
      "metadata": {
        "id": "nFGMxYqmqdB2"
      },
      "source": [
        "def encoder_wav_to_numpy(filename):\n",
        "    y, sr = librosa.load(filename)\n",
        "    slpit_size = 200\n",
        "\n",
        "    D = librosa.amplitude_to_db(np.abs(librosa.stft(y)), ref=np.max)\n",
        "    d = np.array_split(D, slpit_size)\n",
        "\n",
        "    new_data = []\n",
        "\n",
        "    for i in range(slpit_size):\n",
        "        fig, ax = plt.subplots(figsize=(1, 1))\n",
        "\n",
        "        ax.set_axis_off()\n",
        "        plt.subplots_adjust(top=1, bottom=0, right=1, left=0, hspace=0, wspace=0)\n",
        "        plt.margins(0, 0)\n",
        "\n",
        "        sns.heatmap(d[i], xticklabels=False, yticklabels=False, cbar=False, ax=ax)\n",
        "        fig.canvas.draw()\n",
        "        X = np.array(fig.canvas.renderer.buffer_rgba())\n",
        "        plt.ioff()\n",
        "        plt.clf()\n",
        "        \n",
        "\n",
        "        new_data.append(X)\n",
        "        del X\n",
        "\n",
        "    del y, sr, D, d\n",
        "\n",
        "    return new_data"
      ],
      "execution_count": null,
      "outputs": []
    },
    {
      "cell_type": "code",
      "metadata": {
        "id": "NQ71gQzBqrWl"
      },
      "source": [
        "hi = 1\n",
        "hello = 1\n",
        "bye = 1\n",
        "\n",
        "with open(\"/content/drive/MyDrive/ProcessedData/soundFileDetails.csv\", mode='r') as csv_file:\n",
        "    csv_reader = csv.DictReader(csv_file)\n",
        "    line_count = 0\n",
        "    \n",
        "    for row in csv_reader:\n",
        "        if line_count == 0:\n",
        "            line_count += 1\n",
        "            continue\n",
        "        \n",
        "        print(line_count, end=\" \")\n",
        "#         print(row[\"fileName\"], row[\"spoken_text\"])\n",
        "        \n",
        "        orgin_file =  r\"/content/drive/MyDrive/ProcessedData/SoundFiles/\" + row[\"fileName\"]\n",
        "        \n",
        "        if row[\"spoken_text\"] == \"hi\":\n",
        "            dest_file = r\"/content/drive/MyDrive/ProcessedData/hi/hi.\" + str(hi)\n",
        "            \n",
        "            data = encoder_wav_to_numpy(orgin_file)\n",
        "            np.save(dest_file, data)\n",
        "            del data\n",
        "            \n",
        "#             shutil.copyfile(orgin_file, dest_file)\n",
        "            \n",
        "            print(orgin_file + \" to \" + dest_file)\n",
        "            \n",
        "            hi += 1\n",
        "            \n",
        "        if row[\"spoken_text\"] == \"hello\":\n",
        "            dest_file = r\"/content/drive/MyDrive/ProcessedData/hello/hello.\" + str(hello)\n",
        "            \n",
        "            data = encoder_wav_to_numpy(orgin_file)\n",
        "            np.save(dest_file, data)\n",
        "            del data\n",
        "#             shutil.copyfile(orgin_file, dest_file)\n",
        "            \n",
        "            print(orgin_file + \" to \" + dest_file)\n",
        "            \n",
        "            hello += 1\n",
        "            \n",
        "        if row[\"spoken_text\"] == \"bye\":\n",
        "            dest_file = r\"/content/drive/MyDrive/ProcessedData/bye/bye.\" + str(bye)\n",
        "            \n",
        "            data = encoder_wav_to_numpy(orgin_file)\n",
        "            np.save(dest_file, data)\n",
        "            del data\n",
        "#             shutil.copyfile(orgin_file, dest_file)\n",
        "            \n",
        "            print(orgin_file + \" to \" + dest_file)\n",
        "            \n",
        "            bye += 1\n",
        "      \n",
        "        line_count += 1"
      ],
      "execution_count": null,
      "outputs": []
    }
  ]
}